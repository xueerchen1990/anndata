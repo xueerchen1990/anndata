{
 "cells": [
  {
   "cell_type": "code",
   "execution_count": 1,
   "id": "c42a83a7-95ca-46e8-a75a-2561225a06d5",
   "metadata": {},
   "outputs": [
    {
     "data": {
      "text/plain": [
       "56"
      ]
     },
     "execution_count": 1,
     "metadata": {},
     "output_type": "execute_result"
    }
   ],
   "source": [
    "import anndata\n",
    "import gc\n",
    "import numpy as np\n",
    "from scipy.sparse import csr_array, csr_matrix\n",
    "import anndata as ad\n",
    "N = 10_000_000\n",
    "M = 1_000_000\n",
    "row = np.random.randint(0,N,M)\n",
    "col = np.random.randint(0,N,M)\n",
    "data = np.random.random(M)\n",
    "x = csr_matrix((data, (row, col)), shape=(N, N))\n",
    "adata = ad.AnnData(x)\n",
    "del x\n",
    "del adata._obsm, adata._varm, adata._var, adata._obs, adata.X\n",
    "del adata\n",
    "del row,col,data\n",
    "gc.collect()"
   ]
  }
 ],
 "metadata": {
  "kernelspec": {
   "display_name": "Python 3 (ipykernel)",
   "language": "python",
   "name": "python3"
  },
  "language_info": {
   "codemirror_mode": {
    "name": "ipython",
    "version": 3
   },
   "file_extension": ".py",
   "mimetype": "text/x-python",
   "name": "python",
   "nbconvert_exporter": "python",
   "pygments_lexer": "ipython3",
   "version": "3.10.12"
  }
 },
 "nbformat": 4,
 "nbformat_minor": 5
}
